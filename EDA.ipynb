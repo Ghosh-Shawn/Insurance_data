{
 "cells": [
  {
   "cell_type": "code",
   "execution_count": 1,
   "metadata": {},
   "outputs": [],
   "source": [
    "import pandas as pd\n",
    "import numpy as np\n",
    "import gc\n",
    "import matplotlib.pyplot as plt\n",
    "import seaborn as sns\n",
    "sns.set(style=\"ticks\")\n",
    "from sklearn.model_selection import train_test_split"
   ]
  },
  {
   "cell_type": "code",
   "execution_count": 2,
   "metadata": {},
   "outputs": [],
   "source": [
    "train_data = pd.read_csv('data/train.csv')"
   ]
  },
  {
   "cell_type": "code",
   "execution_count": 3,
   "metadata": {},
   "outputs": [
    {
     "name": "stdout",
     "output_type": "stream",
     "text": [
      "<class 'pandas.core.frame.DataFrame'>\n",
      "RangeIndex: 79853 entries, 0 to 79852\n",
      "Data columns (total 13 columns):\n",
      "id                                  79853 non-null int64\n",
      "perc_premium_paid_by_cash_credit    79853 non-null float64\n",
      "age_in_days                         79853 non-null int64\n",
      "Income                              79853 non-null int64\n",
      "Count_3-6_months_late               79756 non-null float64\n",
      "Count_6-12_months_late              79756 non-null float64\n",
      "Count_more_than_12_months_late      79756 non-null float64\n",
      "application_underwriting_score      76879 non-null float64\n",
      "no_of_premiums_paid                 79853 non-null int64\n",
      "sourcing_channel                    79853 non-null object\n",
      "residence_area_type                 79853 non-null object\n",
      "premium                             79853 non-null int64\n",
      "renewal                             79853 non-null int64\n",
      "dtypes: float64(5), int64(6), object(2)\n",
      "memory usage: 7.9+ MB\n"
     ]
    }
   ],
   "source": [
    "train_data.info()"
   ]
  },
  {
   "cell_type": "code",
   "execution_count": 4,
   "metadata": {},
   "outputs": [
    {
     "data": {
      "text/plain": [
       "id                                     0\n",
       "perc_premium_paid_by_cash_credit       0\n",
       "age_in_days                            0\n",
       "Income                                 0\n",
       "Count_3-6_months_late                 97\n",
       "Count_6-12_months_late                97\n",
       "Count_more_than_12_months_late        97\n",
       "application_underwriting_score      2974\n",
       "no_of_premiums_paid                    0\n",
       "sourcing_channel                       0\n",
       "residence_area_type                    0\n",
       "premium                                0\n",
       "renewal                                0\n",
       "dtype: int64"
      ]
     },
     "execution_count": 4,
     "metadata": {},
     "output_type": "execute_result"
    }
   ],
   "source": [
    "train_data.isna().sum()"
   ]
  },
  {
   "cell_type": "code",
   "execution_count": 5,
   "metadata": {},
   "outputs": [
    {
     "name": "stdout",
     "output_type": "stream",
     "text": [
      "1    41492\n",
      "2    31300\n",
      "3    19415\n",
      "4    99379\n",
      "Name: id, dtype: int64 \n",
      " 1    41492\n",
      "2    31300\n",
      "3    19415\n",
      "4    99379\n",
      "Name: id, dtype: int64\n"
     ]
    }
   ],
   "source": [
    "print(train_data.id[1:5] ,\"\\n\", train_data.id[1:5])"
   ]
  },
  {
   "cell_type": "code",
   "execution_count": 6,
   "metadata": {},
   "outputs": [
    {
     "data": {
      "text/plain": [
       "97"
      ]
     },
     "execution_count": 6,
     "metadata": {},
     "output_type": "execute_result"
    }
   ],
   "source": [
    "train_data.id[(train_data[\"Count_3-6_months_late\"].isna()) \n",
    "              & (train_data[\"Count_6-12_months_late\"].isna())\n",
    "              & (train_data[\"Count_more_than_12_months_late\"].isna())].count()"
   ]
  },
  {
   "cell_type": "markdown",
   "metadata": {},
   "source": [
    "\n",
    "\n",
    "So we can see the 97 NA values are all in the same 97 Rows\n",
    "\n",
    "\n",
    "So it would be wise to just delete this rows so they don't effect the model\n",
    "\n",
    "\n"
   ]
  },
  {
   "cell_type": "markdown",
   "metadata": {},
   "source": [
    "Before we delete we create a model to keep a record of the deleted N/A rows"
   ]
  },
  {
   "cell_type": "code",
   "execution_count": 7,
   "metadata": {},
   "outputs": [],
   "source": [
    "train_data[\"pay_late_na\"] = train_data[\"Count_3-6_months_late\"].isna().astype(int)"
   ]
  },
  {
   "cell_type": "code",
   "execution_count": 8,
   "metadata": {},
   "outputs": [],
   "source": [
    "train_data=train_data[train_data[\"pay_late_na\"]==0]"
   ]
  },
  {
   "cell_type": "code",
   "execution_count": 9,
   "metadata": {},
   "outputs": [
    {
     "data": {
      "text/plain": [
       "count    76855.000000\n",
       "mean        99.067053\n",
       "std          0.739789\n",
       "min         91.900000\n",
       "25%         98.810000\n",
       "50%         99.210000\n",
       "75%         99.540000\n",
       "max         99.890000\n",
       "Name: application_underwriting_score, dtype: float64"
      ]
     },
     "execution_count": 9,
     "metadata": {},
     "output_type": "execute_result"
    }
   ],
   "source": [
    "train_data.application_underwriting_score.describe()"
   ]
  },
  {
   "cell_type": "code",
   "execution_count": 10,
   "metadata": {},
   "outputs": [
    {
     "name": "stdout",
     "output_type": "stream",
     "text": [
      "99.06705315203956\n",
      "sourcing_channel\n",
      "A    99.102131\n",
      "B    99.055758\n",
      "C    98.979302\n",
      "D    99.038134\n",
      "E    99.067980\n",
      "Name: application_underwriting_score, dtype: float64\n",
      "residence_area_type\n",
      "Rural    99.062508\n",
      "Urban    99.070048\n",
      "Name: application_underwriting_score, dtype: float64\n"
     ]
    }
   ],
   "source": [
    "print(train_data.application_underwriting_score.mean())\n",
    "col=[\"sourcing_channel\", \"residence_area_type\"]\n",
    "for c in col:\n",
    "    print(train_data.groupby(c).application_underwriting_score.mean())"
   ]
  },
  {
   "cell_type": "markdown",
   "metadata": {},
   "source": [
    " \n",
    "So we can see two things:\n",
    "* very less _scattering_ in **application_underwriting_score** and very low std-dev\n",
    "* Almost same mean across all the **sourcing_channel** and **residence_area_type**\n",
    "\n",
    "\n",
    "\n",
    "\n",
    "\n",
    "SO we can impute the missing data __application_underwriting_score__ with its mean"
   ]
  },
  {
   "cell_type": "code",
   "execution_count": 11,
   "metadata": {},
   "outputs": [],
   "source": [
    "train_data['application_underwriting_score'].fillna(train_data.application_underwriting_score.mean(), inplace=True)\n"
   ]
  },
  {
   "cell_type": "code",
   "execution_count": 12,
   "metadata": {},
   "outputs": [
    {
     "data": {
      "text/plain": [
       "0"
      ]
     },
     "execution_count": 12,
     "metadata": {},
     "output_type": "execute_result"
    }
   ],
   "source": [
    "train_data.isna().sum().sum()\n",
    "#check "
   ]
  },
  {
   "cell_type": "code",
   "execution_count": 13,
   "metadata": {},
   "outputs": [],
   "source": [
    "#Adding a few more features\n",
    "\n",
    "train_data[\"total_count\"]=(train_data['Count_3-6_months_late']+train_data['Count_6-12_months_late']+train_data['Count_more_than_12_months_late']+train_data['no_of_premiums_paid'])\n",
    "\n",
    "train_data[\"total_late_payment\"]=(train_data['Count_3-6_months_late']+train_data['Count_6-12_months_late']+train_data['Count_more_than_12_months_late'])\n",
    "\n",
    "train_data[\"ratio_late_payment\"]=(train_data['Count_3-6_months_late']+train_data['Count_6-12_months_late']+train_data['Count_more_than_12_months_late'])\n"
   ]
  },
  {
   "cell_type": "code",
   "execution_count": 14,
   "metadata": {},
   "outputs": [
    {
     "name": "stdout",
     "output_type": "stream",
     "text": [
      "<class 'pandas.core.frame.DataFrame'>\n",
      "Int64Index: 79756 entries, 0 to 79852\n",
      "Data columns (total 17 columns):\n",
      "id                                  79756 non-null int64\n",
      "perc_premium_paid_by_cash_credit    79756 non-null float64\n",
      "age_in_days                         79756 non-null int64\n",
      "Income                              79756 non-null int64\n",
      "Count_3-6_months_late               79756 non-null float64\n",
      "Count_6-12_months_late              79756 non-null float64\n",
      "Count_more_than_12_months_late      79756 non-null float64\n",
      "application_underwriting_score      79756 non-null float64\n",
      "no_of_premiums_paid                 79756 non-null int64\n",
      "sourcing_channel                    79756 non-null object\n",
      "residence_area_type                 79756 non-null object\n",
      "premium                             79756 non-null int64\n",
      "renewal                             79756 non-null int64\n",
      "pay_late_na                         79756 non-null int64\n",
      "total_count                         79756 non-null float64\n",
      "total_late_payment                  79756 non-null float64\n",
      "ratio_late_payment                  79756 non-null float64\n",
      "dtypes: float64(8), int64(7), object(2)\n",
      "memory usage: 11.0+ MB\n"
     ]
    }
   ],
   "source": [
    "train_data.info()"
   ]
  },
  {
   "cell_type": "markdown",
   "metadata": {},
   "source": [
    "### Correlation"
   ]
  },
  {
   "cell_type": "code",
   "execution_count": 15,
   "metadata": {
    "scrolled": true
   },
   "outputs": [
    {
     "data": {
      "text/plain": [
       "<matplotlib.axes._subplots.AxesSubplot at 0x7f64a62515f8>"
      ]
     },
     "execution_count": 15,
     "metadata": {},
     "output_type": "execute_result"
    },
    {
     "data": {
      "image/png": "[encoded data removed]",
      "text/plain": [
       "<Figure size 360x288 with 2 Axes>"
      ]
     },
     "metadata": {},
     "output_type": "display_data"
    }
   ],
   "source": [
    "#list of cols for correlation test\n",
    "d = (list(train_data.columns[1:9])+list(train_data.columns[11:17]))\n",
    "\n",
    "corr = train_data[d].corr()\n",
    "\n",
    "# Set up the matplotlib figure\n",
    "f, ax = plt.subplots(figsize=(5, 4))\n",
    "\n",
    "# Generate a custom diverging colormap\n",
    "cmap = sns.diverging_palette(220, 10, as_cmap=True)\n",
    "\n",
    "# Draw the heatmap with the mask and correct aspect ratio\n",
    "sns.heatmap(corr, cmap=cmap, vmax=1, center=0,\n",
    "            square=True, linewidths=.5)\n"
   ]
  },
  {
   "cell_type": "markdown",
   "metadata": {},
   "source": [
    "### From Correlation Plot\n",
    "\n",
    "* __Total_count__ and __no_of_premeiums_paid__ is highly correlated so one should be discarded. \n",
    "\n",
    "* We can see some correlation between late payments in the three categories (3-6, 6-12 and >12)\n",
    "    * possibly because similar pay late across all categories\n",
    "    * the 3-6 could be a subset of 6-12 or >12 (we should check for this possibility)"
   ]
  },
  {
   "cell_type": "code",
   "execution_count": 16,
   "metadata": {},
   "outputs": [],
   "source": [
    "#drop total count\n",
    "train_data.drop(labels=[\"total_count\"], axis=1, inplace=True)"
   ]
  },
  {
   "cell_type": "code",
   "execution_count": 17,
   "metadata": {},
   "outputs": [],
   "source": [
    "#Seperate id and label\n",
    "Id=train_data.id\n",
    "label=pd.DataFrame({'target':train_data.renewal})\n",
    "\n",
    "#drop id and renewal\n",
    "train_data.drop(labels=[\"id\", \"renewal\"], axis=1, inplace=True)\n"
   ]
  },
  {
   "cell_type": "code",
   "execution_count": 18,
   "metadata": {},
   "outputs": [],
   "source": [
    "#one hot encoding fo non-numerical variables\n",
    "train_data=pd.get_dummies(train_data)"
   ]
  },
  {
   "cell_type": "code",
   "execution_count": 23,
   "metadata": {},
   "outputs": [],
   "source": [
    "#processed data to csv\n",
    "train_data.to_csv(\"data/train_data.csv\", index=False)\n",
    "\n",
    "#labels to csv\n",
    "label.to_csv(\"data/train_target.csv\", index=False)"
   ]
  },
  {
   "cell_type": "code",
   "execution_count": 20,
   "metadata": {},
   "outputs": [],
   "source": [
    "#create train and test dataset\n",
    "X_train, X_test, y_train, y_test = train_test_split(train_data, label, train_size=0.75,\n",
    "                                                    test_size=0.25, random_state=1)"
   ]
  },
  {
   "cell_type": "code",
   "execution_count": 24,
   "metadata": {},
   "outputs": [],
   "source": [
    "#export as csv files\n",
    "\n",
    "X_train.to_csv(\"data/X_train.csv\", index=False)\n",
    "X_test.to_csv(\"data/X_test.csv\", index=False)\n",
    "y_train.to_csv(\"data/train_labels.csv\", index=False)\n",
    "y_test.to_csv(\"data/test_labels.csv\", index=False)"
   ]
  }
 ],
 "metadata": {
  "kernelspec": {
   "display_name": "Python 3",
   "language": "python",
   "name": "python3"
  },
  "language_info": {
   "codemirror_mode": {
    "name": "ipython",
    "version": 3
   },
   "file_extension": ".py",
   "mimetype": "text/x-python",
   "name": "python",
   "nbconvert_exporter": "python",
   "pygments_lexer": "ipython3",
   "version": "3.6.6"
  }
 },
 "nbformat": 4,
 "nbformat_minor": 2
}
