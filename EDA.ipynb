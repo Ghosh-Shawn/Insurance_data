{
 "cells": [
  {
   "cell_type": "code",
   "execution_count": 2,
   "metadata": {},
   "outputs": [],
   "source": [
    "import pandas as pd\n",
    "import numpy as np\n",
    "import gc\n",
    "import matplotlib.pyplot as plt"
   ]
  },
  {
   "cell_type": "code",
   "execution_count": 3,
   "metadata": {},
   "outputs": [],
   "source": [
    "train_data = pd.read_csv('data/train.csv')\n",
    "test_data = pd.read_csv('data/test.csv')"
   ]
  },
  {
   "cell_type": "code",
   "execution_count": 5,
   "metadata": {},
   "outputs": [
    {
     "name": "stdout",
     "output_type": "stream",
     "text": [
      "<class 'pandas.core.frame.DataFrame'>\n",
      "RangeIndex: 79853 entries, 0 to 79852\n",
      "Data columns (total 13 columns):\n",
      "id                                  79853 non-null int64\n",
      "perc_premium_paid_by_cash_credit    79853 non-null float64\n",
      "age_in_days                         79853 non-null int64\n",
      "Income                              79853 non-null int64\n",
      "Count_3-6_months_late               79756 non-null float64\n",
      "Count_6-12_months_late              79756 non-null float64\n",
      "Count_more_than_12_months_late      79756 non-null float64\n",
      "application_underwriting_score      76879 non-null float64\n",
      "no_of_premiums_paid                 79853 non-null int64\n",
      "sourcing_channel                    79853 non-null object\n",
      "residence_area_type                 79853 non-null object\n",
      "premium                             79853 non-null int64\n",
      "renewal                             79853 non-null int64\n",
      "dtypes: float64(5), int64(6), object(2)\n",
      "memory usage: 7.9+ MB\n"
     ]
    }
   ],
   "source": [
    "train_data.info()"
   ]
  },
  {
   "cell_type": "code",
   "execution_count": 8,
   "metadata": {},
   "outputs": [
    {
     "data": {
      "text/plain": [
       "id                                     0\n",
       "perc_premium_paid_by_cash_credit       0\n",
       "age_in_days                            0\n",
       "Income                                 0\n",
       "Count_3-6_months_late                 97\n",
       "Count_6-12_months_late                97\n",
       "Count_more_than_12_months_late        97\n",
       "application_underwriting_score      2974\n",
       "no_of_premiums_paid                    0\n",
       "sourcing_channel                       0\n",
       "residence_area_type                    0\n",
       "premium                                0\n",
       "renewal                                0\n",
       "dtype: int64"
      ]
     },
     "execution_count": 8,
     "metadata": {},
     "output_type": "execute_result"
    }
   ],
   "source": [
    "train_data.isna().sum()"
   ]
  },
  {
   "cell_type": "code",
   "execution_count": 22,
   "metadata": {},
   "outputs": [
    {
     "name": "stdout",
     "output_type": "stream",
     "text": [
      "1    41492\n",
      "2    31300\n",
      "3    19415\n",
      "4    99379\n",
      "Name: id, dtype: int64 \n",
      " 1    41492\n",
      "2    31300\n",
      "3    19415\n",
      "4    99379\n",
      "Name: id, dtype: int64\n"
     ]
    }
   ],
   "source": [
    "print(train_data.id[1:5] ,\"\\n\", train_data.id[1:5])"
   ]
  },
  {
   "cell_type": "code",
   "execution_count": 58,
   "metadata": {},
   "outputs": [
    {
     "data": {
      "text/plain": [
       "97"
      ]
     },
     "execution_count": 58,
     "metadata": {},
     "output_type": "execute_result"
    }
   ],
   "source": [
    "train_data.id[(train_data[\"Count_3-6_months_late\"].isna()) \n",
    "              & (train_data[\"Count_6-12_months_late\"].isna())\n",
    "              & (train_data[\"Count_more_than_12_months_late\"].isna())].count()"
   ]
  },
  {
   "cell_type": "markdown",
   "metadata": {},
   "source": [
    "\n",
    "\n",
    "So we can see the 97 NA values are all in the same 97 Rows\n",
    "\n",
    "So it would be wise to just delete this rows so they don't effect the model\n",
    "\n",
    "\n"
   ]
  },
  {
   "cell_type": "code",
   "execution_count": 44,
   "metadata": {},
   "outputs": [
    {
     "data": {
      "text/plain": [
       "count    76879.000000\n",
       "mean        99.067291\n",
       "std          0.739799\n",
       "min         91.900000\n",
       "25%         98.810000\n",
       "50%         99.210000\n",
       "75%         99.540000\n",
       "max         99.890000\n",
       "Name: application_underwriting_score, dtype: float64"
      ]
     },
     "execution_count": 44,
     "metadata": {},
     "output_type": "execute_result"
    }
   ],
   "source": [
    "train_data.application_underwriting_score.describe()"
   ]
  },
  {
   "cell_type": "code",
   "execution_count": 57,
   "metadata": {},
   "outputs": [
    {
     "name": "stdout",
     "output_type": "stream",
     "text": [
      "99.06729119785638\n",
      "sourcing_channel\n",
      "A    99.102432\n",
      "B    99.055857\n",
      "C    98.979512\n",
      "D    99.038356\n",
      "E    99.067980\n",
      "Name: application_underwriting_score, dtype: float64\n",
      "residence_area_type\n",
      "Rural    99.062726\n",
      "Urban    99.070299\n",
      "Name: application_underwriting_score, dtype: float64\n"
     ]
    }
   ],
   "source": [
    "print(train_data.application_underwriting_score.mean())\n",
    "col=[\"sourcing_channel\", \"residence_area_type\"]\n",
    "for c in col:\n",
    "    print(train_data.groupby(c).application_underwriting_score.mean())"
   ]
  },
  {
   "cell_type": "markdown",
   "metadata": {},
   "source": [
    "So we can see two things:\n",
    "* very less scattering in **application_underwriting_score** and very low std-dev\n",
    "* Almost same mean across all the **sourcing_channel** and **residence_area_type**"
   ]
  },
  {
   "cell_type": "code",
   "execution_count": null,
   "metadata": {},
   "outputs": [],
   "source": []
  }
 ],
 "metadata": {
  "kernelspec": {
   "display_name": "Python 3",
   "language": "python",
   "name": "python3"
  },
  "language_info": {
   "codemirror_mode": {
    "name": "ipython",
    "version": 3
   },
   "file_extension": ".py",
   "mimetype": "text/x-python",
   "name": "python",
   "nbconvert_exporter": "python",
   "pygments_lexer": "ipython3",
   "version": "3.6.6"
  }
 },
 "nbformat": 4,
 "nbformat_minor": 2
}
